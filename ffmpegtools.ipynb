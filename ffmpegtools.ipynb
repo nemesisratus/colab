{
  "nbformat": 4,
  "nbformat_minor": 0,
  "metadata": {
    "colab": {
      "provenance": []
    },
    "kernelspec": {
      "name": "python3",
      "display_name": "Python 3"
    },
    "language_info": {
      "name": "python"
    }
  },
  "cells": [
    {
      "cell_type": "code",
      "execution_count": null,
      "metadata": {
        "id": "VOxpAGczcIYk",
        "cellView": "form"
      },
      "outputs": [],
      "source": [
        "# @title Upload video\n",
        "from google.colab import files\n",
        "\n",
        "uploaded = files.upload()\n",
        "\n",
        "# Ambil nama file yang diupload (anggap hanya satu file)\n",
        "input_video = list(uploaded.keys())[0]\n",
        "print(\"Video uploaded:\", input_video)"
      ]
    },
    {
      "cell_type": "code",
      "source": [
        "# @title Convert video ke 12fps\n",
        "import os\n",
        "\n",
        "output_video = \"output.mp4\"\n",
        "!ffmpeg -i \"$input_video\" -filter:v \"fps=12\" \"$output_video\" -y\n",
        "from IPython.display import clear_output\n",
        "clear_output()\n",
        "print(\"Video saved as\", output_video)\n",
        "\n",
        "from google.colab import files\n",
        "files.download(\"/content/output.mp4\")"
      ],
      "metadata": {
        "id": "qoEi8ObZcXHL",
        "cellView": "form"
      },
      "execution_count": null,
      "outputs": []
    },
    {
      "cell_type": "code",
      "source": [
        "# @title Cut video\n",
        "start = 1   # @param {type:\"number\"}\n",
        "\n",
        "end = 2    # @param {type:\"number\"}\n",
        "\n",
        "trim_output = \"trim_output.mp4\"\n",
        "inputcut = \"/content/output.mp4\"\n",
        "!ffmpeg -i \"$inputcut\" -ss {start} -to {end} -c:v libx264 -c:a aac -strict experimental \"$trim_output\" -y\n",
        "from IPython.display import clear_output\n",
        "clear_output()\n",
        "print(\"Trimmed video (re-encode) saved as\", trim_output)\n",
        "\n",
        "from google.colab import files\n",
        "files.download(\"/content/trim_output.mp4\")"
      ],
      "metadata": {
        "id": "InBcYlzWSbQH",
        "cellView": "form"
      },
      "execution_count": null,
      "outputs": []
    }
  ]
}